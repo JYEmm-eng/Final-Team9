{
  "nbformat": 4,
  "nbformat_minor": 0,
  "metadata": {
    "colab": {
      "provenance": [],
      "authorship_tag": "ABX9TyM06K+yXsaUWvp8foKxzlZ/",
      "include_colab_link": true
    },
    "kernelspec": {
      "name": "python3",
      "display_name": "Python 3"
    },
    "language_info": {
      "name": "python"
    }
  },
  "cells": [
    {
      "cell_type": "markdown",
      "metadata": {
        "id": "view-in-github",
        "colab_type": "text"
      },
      "source": [
        "<a href=\"https://colab.research.google.com/github/minjung21/Final-Team9/blob/main/%ED%8C%8C%EC%9D%B4%EB%84%90_%ED%94%84%EB%A1%9C%EC%A0%9D%ED%8A%B81.ipynb\" target=\"_parent\"><img src=\"https://colab.research.google.com/assets/colab-badge.svg\" alt=\"Open In Colab\"/></a>"
      ]
    },
    {
      "cell_type": "code",
      "source": [
        "import pandas as pd"
      ],
      "metadata": {
        "id": "u6ZQsql68zJu"
      },
      "execution_count": 31,
      "outputs": []
    },
    {
      "cell_type": "code",
      "source": [
        "# 사용자 업로드한 파일 로드 (영화들이 섞여 있는 파일이라고 가정)\n",
        "df = pd.read_csv('/content/TMDB_processed.csv')"
      ],
      "metadata": {
        "id": "OKLsIk2i80_l"
      },
      "execution_count": 32,
      "outputs": []
    },
    {
      "cell_type": "code",
      "source": [
        "import pandas as pd\n",
        "\n",
        "# 메이저 스튜디오 리스트\n",
        "MAJOR_STUDIOS = [\n",
        "    \"Warner Bros.\", \"Warner Bros\", \"Warner Bros. Pictures\",\n",
        "    \"Universal Pictures\", \"Walt Disney Pictures\", \"Walt Disney Studios\",\n",
        "    \"Paramount Pictures\", \"Sony Pictures\", \"Columbia Pictures\",\n",
        "    \"20th Century Fox\", \"20th Century Studios\", \"New Line Cinema\",\n",
        "    \"Marvel Studios\", \"Lucasfilm\", \"Pixar\", \"DreamWorks\"\n",
        "]\n",
        "\n",
        "# NaN 방지: 결측치는 빈 문자열로\n",
        "df['production_companies'] = df['production_companies'].fillna('')\n",
        "\n",
        "# 숫자형 구분 함수\n",
        "def classify_film_numeric(row):\n",
        "    prod_companies = str(row['production_companies'])\n",
        "    budget = row['budget']\n",
        "\n",
        "    # Indie Film\n",
        "    if budget < 20_000_000 and not any(studio in prod_companies for studio in major_studios):\n",
        "        return 0  # Indie #4500000\n",
        "\n",
        "    # Blockbuster\n",
        "    if budget >= 100_000_000:\n",
        "        return 2  # Blockbuster\n",
        "\n",
        "    # Studio Film\n",
        "    return 1  # Studio Film (나머지)\n",
        "\n",
        "# 새로운 컬럼 추가\n",
        "df['film_code'] = df.apply(classify_film_numeric, axis=1)\n",
        "\n",
        "# 확인\n",
        "print(df[['budget','production_companies','film_code']].head())\n"
      ],
      "metadata": {
        "id": "QpD3eytiEEo1"
      },
      "execution_count": 33,
      "outputs": []
    },
    {
      "cell_type": "code",
      "source": [
        "# film_code 컬럼까지 추가된 df라고 가정\n",
        "output_path = \"TMDB_with_film_code1.csv\"  # 저장할 파일명\n",
        "\n",
        "# CSV로 저장 (인덱스는 안 저장하도록 index=False)\n",
        "df.to_csv(output_path, index=False, encoding='utf-8-sig')\n",
        "\n",
        "print(f\"저장 완료: {output_path}\")\n"
      ],
      "metadata": {
        "id": "Vzu44ffREhK4"
      },
      "execution_count": 34,
      "outputs": []
    },
    {
      "cell_type": "code",
      "source": [
        "import pandas as pd\n",
        "import numpy as np\n",
        "import ast\n",
        "from typing import Iterable, Union\n",
        "\n",
        "MAJOR_STUDIOS = [\n",
        "    \"Warner Bros.\", \"Warner Bros\", \"Warner Bros. Pictures\",\n",
        "    \"Universal Pictures\", \"Walt Disney Pictures\", \"Walt Disney Studios\",\n",
        "    \"Paramount Pictures\", \"Sony Pictures\", \"Columbia Pictures\",\n",
        "    \"20th Century Fox\", \"20th Century Studios\", \"New Line Cinema\",\n",
        "    \"Marvel Studios\", \"Lucasfilm\", \"Pixar\", \"DreamWorks\"\n",
        "]\n",
        "\n",
        "BUDGET_INDI_THRESHOLD   = 20_000_000\n",
        "BUDGET_BLOCKB_THRESHOLD = 100_000_000\n",
        "\n",
        "# --- 여기서부터 모든 규칙은 r[\"roi\"](이미 존재) 를 사용 ---\n",
        "SUCCESS_RULES = {\n",
        "    \"Blockbuster\": [\n",
        "        (\"Global Blockbuster\", lambda r: r[\"revenue\"] >= 1_000_000_000 and r[\"roi\"] >= 1.2),\n",
        "        (\"Mega Hit\",          lambda r: r[\"revenue\"] >=   500_000_000 and r[\"roi\"] >= 1.1),\n",
        "        (\"Hit\",               lambda r: r[\"revenue\"] >=   200_000_000 and r[\"roi\"] >= 1.0),\n",
        "        (\"Moderate\",          lambda r: r[\"revenue\"] >=    50_000_000),\n",
        "        (\"Flop\",              lambda r: True),\n",
        "    ],\n",
        "    \"Studio\": [\n",
        "        (\"Mega Hit\", lambda r: r[\"revenue\"] >= 500_000_000 or (r[\"revenue\"] >= 200_000_000 and r[\"roi\"] >= 1.2)),\n",
        "        (\"Hit\",      lambda r: r[\"revenue\"] >= 100_000_000 and r[\"roi\"] >= 1.0),\n",
        "        (\"Moderate\", lambda r: r[\"revenue\"] >=  20_000_000 and r[\"roi\"] >= 0.9),\n",
        "        (\"Flop\",     lambda r: True),\n",
        "    ],\n",
        "    \"Indie\": [\n",
        "        (\"Super Hit\", lambda r: r[\"roi\"] >= 3.0 and r[\"revenue\"] >= 5_000_000),\n",
        "        (\"Hit\",       lambda r: r[\"roi\"] >= 2.0 and r[\"revenue\"] >= 2_000_000),\n",
        "        (\"Moderate\",  lambda r: r[\"roi\"] >= 1.2 and r[\"revenue\"] >= 1_000_000),\n",
        "        (\"Flop\",      lambda r: True),\n",
        "    ],\n",
        "}\n",
        "\n",
        "def to_company_names(x):\n",
        "    if x is None or (isinstance(x, float) and np.isnan(x)):\n",
        "        return []\n",
        "    if isinstance(x, list):\n",
        "        if len(x) == 0:\n",
        "            return []\n",
        "        if isinstance(x[0], dict) and \"name\" in x[0]:\n",
        "            return [str(d.get(\"name\", \"\")).strip() for d in x]\n",
        "        return [str(s).strip() for s in x]\n",
        "    s = str(x).strip()\n",
        "    if s == \"\":\n",
        "        return []\n",
        "    if (s.startswith(\"[\") and s.endswith(\"]\")) or (s.startswith(\"{\") and s.endswith(\"}\")):\n",
        "        try:\n",
        "            parsed = ast.literal_eval(s)\n",
        "            return to_company_names(parsed)\n",
        "        except Exception:\n",
        "            pass\n",
        "    return [t.strip() for t in s.split(\",\") if t.strip()]\n",
        "\n",
        "def is_major(companies):\n",
        "    comp_lower = [c.lower() for c in companies]\n",
        "    for m in MAJOR_STUDIOS:\n",
        "        key = m.lower().replace(\".\", \"\").strip()\n",
        "        for c in comp_lower:\n",
        "            if key in c.replace(\".\", \"\").strip():\n",
        "                return True\n",
        "    return False\n",
        "\n",
        "def classify_scale(budget: float, companies: list) -> int:\n",
        "    if pd.notna(budget) and budget >= BUDGET_BLOCKB_THRESHOLD:\n",
        "        return 2  # Blockbuster\n",
        "    if pd.notna(budget) and budget < BUDGET_INDI_THRESHOLD and not is_major(companies):\n",
        "        return 0  # Indie\n",
        "    return 1      # Studio\n",
        "\n",
        "def scale_label(code: int) -> str:\n",
        "    return {0: \"Indie\", 1: \"Studio\", 2: \"Blockbuster\"}.get(code, \"Unknown\")\n",
        "\n",
        "def success_for_scale(scale: str, row: pd.Series) -> str:\n",
        "    rules = SUCCESS_RULES.get(scale, [(\"Unknown\", lambda r: True)])\n",
        "    for label, cond in rules:\n",
        "        try:\n",
        "            if cond(row):\n",
        "                return label\n",
        "        except Exception:\n",
        "            continue\n",
        "    return \"Unknown\"\n",
        "\n",
        "def classify_movies_using_existing_roi(df: pd.DataFrame,\n",
        "                                       prod_col: str = \"production_companies\",\n",
        "                                       budget_col: str = \"budget\",\n",
        "                                       revenue_col: str = \"revenue\",\n",
        "                                       roi_col: str = \"roi\") -> pd.DataFrame:\n",
        "    out = df.copy()\n",
        "\n",
        "    # 기본 정리\n",
        "    out[prod_col]    = out[prod_col].fillna(\"\")\n",
        "    out[budget_col]  = pd.to_numeric(out[budget_col], errors=\"coerce\")\n",
        "    out[revenue_col] = pd.to_numeric(out[revenue_col], errors=\"coerce\")\n",
        "    out[roi_col]     = pd.to_numeric(out[roi_col], errors=\"coerce\")\n",
        "\n",
        "    # (선택) ROI 값의 비정상치 방지: 음수/무한대 → NaN\n",
        "    out.loc[~np.isfinite(out[roi_col]) | (out[roi_col] < 0), roi_col] = np.nan\n",
        "\n",
        "    # 규모 분류\n",
        "    out[\"_companies_list\"] = out[prod_col].apply(to_company_names)\n",
        "    out[\"scale_code\"]  = out.apply(lambda r: classify_scale(r[budget_col], r[\"_companies_list\"]), axis=1)\n",
        "    out[\"scale_label\"] = out[\"scale_code\"].map(scale_label)\n",
        "\n",
        "    # 성과 티어 (기존 roi 사용)\n",
        "    out[\"success_tier\"] = out.apply(lambda r: success_for_scale(r[\"scale_label\"], r), axis=1)\n",
        "\n",
        "    # 최종 라벨\n",
        "    out[\"final_label\"] = out[\"scale_label\"] + \"–\" + out[\"success_tier\"]\n",
        "\n",
        "    return out.drop(columns=[\"_companies_list\"])"
      ],
      "metadata": {
        "id": "j2Qmbx0qZBJU"
      },
      "execution_count": 42,
      "outputs": []
    },
    {
      "cell_type": "code",
      "source": [
        "# film_code 컬럼까지 추가된 df라고 가정\n",
        "output_path = \"TMDB.csv\"  # 저장할 파일명\n",
        "\n",
        "# CSV로 저장 (인덱스는 안 저장하도록 index=False)\n",
        "df.to_csv(output_path, index=False, encoding='utf-8-sig')\n",
        "\n",
        "print(f\"저장 완료: {output_path}\")"
      ],
      "metadata": {
        "colab": {
          "base_uri": "https://localhost:8080/"
        },
        "id": "zuliEYywZDBI",
        "outputId": "f68d167d-8d7e-4920-9029-d3fb3e8935f3"
      },
      "execution_count": 45,
      "outputs": [
        {
          "output_type": "stream",
          "name": "stdout",
          "text": [
            "저장 완료: TMDB.csv\n"
          ]
        }
      ]
    },
    {
      "cell_type": "code",
      "source": [
        "import pandas as pd\n",
        "import numpy as np\n",
        "import ast\n",
        "\n",
        "# -----------------------------\n",
        "# 설정\n",
        "# -----------------------------\n",
        "MAJOR_STUDIOS = [\n",
        "    \"Warner Bros.\", \"Warner Bros\", \"Warner Bros. Pictures\",\n",
        "    \"Universal Pictures\", \"Walt Disney Pictures\", \"Walt Disney Studios\",\n",
        "    \"Paramount Pictures\", \"Sony Pictures\", \"Columbia Pictures\",\n",
        "    \"20th Century Fox\", \"20th Century Studios\", \"New Line Cinema\",\n",
        "    \"Marvel Studios\", \"Lucasfilm\", \"Pixar\", \"DreamWorks\"\n",
        "]\n",
        "\n",
        "BUDGET_INDI_THRESHOLD   = 20_000_000\n",
        "BUDGET_BLOCKB_THRESHOLD = 100_000_000\n",
        "\n",
        "# 예외 영화: 제목(key)에 대해 강제로 scale_code(value) 지정\n",
        "EXCEPTION_MOVIES = {\n",
        "    \"Parasite\": 1,  # Studio로 강제 지정\n",
        "    # 필요 시 추가 가능\n",
        "}\n",
        "\n",
        "# -----------------------------\n",
        "# Helper 함수\n",
        "# -----------------------------\n",
        "def to_company_names(x):\n",
        "    \"\"\"production_companies 컬럼 처리\"\"\"\n",
        "    if x is None or (isinstance(x, float) and np.isnan(x)):\n",
        "        return []\n",
        "    if isinstance(x, list):\n",
        "        if len(x) == 0:\n",
        "            return []\n",
        "        if isinstance(x[0], dict) and \"name\" in x[0]:\n",
        "            return [str(d.get(\"name\", \"\")).strip() for d in x]\n",
        "        return [str(s).strip() for s in x]\n",
        "    s = str(x).strip()\n",
        "    if s == \"\":\n",
        "        return []\n",
        "    if (s.startswith(\"[\") and s.endswith(\"]\")) or (s.startswith(\"{\") and s.endswith(\"}\")):\n",
        "        try:\n",
        "            parsed = ast.literal_eval(s)\n",
        "            return to_company_names(parsed)\n",
        "        except Exception:\n",
        "            pass\n",
        "    return [t.strip() for t in s.split(\",\") if t.strip()]\n",
        "\n",
        "def is_major(companies):\n",
        "    \"\"\"MAJOR_STUDIOS 포함 여부 확인\"\"\"\n",
        "    comp_lower = [c.lower() for c in companies]\n",
        "    for m in MAJOR_STUDIOS:\n",
        "        key = m.lower().replace(\".\", \"\").strip()\n",
        "        for c in comp_lower:\n",
        "            if key in c.replace(\".\", \"\").strip():\n",
        "                return True\n",
        "    return False\n",
        "\n",
        "def classify_scale(title, budget, companies):\n",
        "    \"\"\"budget + MAJOR_STUDIO + 예외 영화 처리\"\"\"\n",
        "    # 예외 처리\n",
        "    if title in EXCEPTION_MOVIES:\n",
        "        return EXCEPTION_MOVIES[title]\n",
        "\n",
        "    # Blockbuster\n",
        "    if pd.notna(budget) and budget >= BUDGET_BLOCKB_THRESHOLD:\n",
        "        return 2\n",
        "    # Indie\n",
        "    if pd.notna(budget) and budget < BUDGET_INDI_THRESHOLD and not is_major(companies):\n",
        "        return 0\n",
        "    # 나머지 Studio\n",
        "    return 1\n",
        "\n",
        "def scale_label(code):\n",
        "    return {0: \"Indie\", 1: \"Studio\", 2: \"Blockbuster\"}.get(code, \"Unknown\")\n",
        "\n",
        "# -----------------------------\n",
        "# 적용 함수\n",
        "# -----------------------------\n",
        "def classify_movies(df, prod_col=\"production_companies\", budget_col=\"budget\"):\n",
        "    out = df.copy()\n",
        "\n",
        "    # 컬럼 정리\n",
        "    out[prod_col]   = out[prod_col].fillna(\"\")\n",
        "    out[budget_col] = pd.to_numeric(out[budget_col], errors=\"coerce\")\n",
        "\n",
        "    # _companies_list 생성\n",
        "    out[\"_companies_list\"] = out[prod_col].apply(to_company_names)\n",
        "\n",
        "    # scale_code 분류\n",
        "    out[\"scale_code\"]  = out.apply(lambda r: classify_scale(r.get(\"title\", \"\"), r[budget_col], r[\"_companies_list\"]), axis=1)\n",
        "    out[\"scale_label\"] = out[\"scale_code\"].map(scale_label)\n",
        "\n",
        "    return out.drop(columns=[\"_companies_list\"])\n"
      ],
      "metadata": {
        "id": "4GrIZsftdmvC"
      },
      "execution_count": 46,
      "outputs": []
    },
    {
      "cell_type": "code",
      "source": [
        "\n",
        "df_classified = classify_movies(df)\n",
        "\n",
        "# 확인\n",
        "print(df_classified[[\"title\", \"budget\", \"scale_label\"]].head())\n",
        "\n",
        "# CSV 저장\n",
        "df_classified.to_csv(\"TMDB_classified_v2.csv\", index=False)\n"
      ],
      "metadata": {
        "colab": {
          "base_uri": "https://localhost:8080/"
        },
        "id": "5UmBmNsBgaNj",
        "outputId": "20aa0f67-2ac3-484e-dfb9-8b255989ea06"
      },
      "execution_count": 47,
      "outputs": [
        {
          "output_type": "stream",
          "name": "stdout",
          "text": [
            "             title     budget  scale_label\n",
            "0        Inception  160000000  Blockbuster\n",
            "1     Interstellar  165000000  Blockbuster\n",
            "2  The Dark Knight  185000000  Blockbuster\n",
            "3           Avatar  237000000  Blockbuster\n",
            "4     The Avengers  220000000  Blockbuster\n"
          ]
        }
      ]
    }
  ]
}
