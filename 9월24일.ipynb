{
  "nbformat": 4,
  "nbformat_minor": 0,
  "metadata": {
    "colab": {
      "provenance": [],
      "mount_file_id": "1O-0XXuRAikUzbYOInqZx-uJPszRYI6YF",
      "authorship_tag": "ABX9TyO5U6HuuO27jfCjn/2du2JL",
      "include_colab_link": true
    },
    "kernelspec": {
      "name": "python3",
      "display_name": "Python 3"
    },
    "language_info": {
      "name": "python"
    }
  },
  "cells": [
    {
      "cell_type": "markdown",
      "metadata": {
        "id": "view-in-github",
        "colab_type": "text"
      },
      "source": [
        "<a href=\"https://colab.research.google.com/github/WooHyunJ/Final-Team9/blob/main/9%EC%9B%9424%EC%9D%BC.ipynb\" target=\"_parent\"><img src=\"https://colab.research.google.com/assets/colab-badge.svg\" alt=\"Open In Colab\"/></a>"
      ]
    },
    {
      "cell_type": "code",
      "execution_count": 42,
      "metadata": {
        "id": "tnqa1J-rdsLd"
      },
      "outputs": [],
      "source": [
        "import pandas as pd"
      ]
    },
    {
      "cell_type": "code",
      "source": [
        "df = pd.read_csv(\"/content/drive/MyDrive/TMDB_processed_final.csv\")"
      ],
      "metadata": {
        "id": "KFIon4Uid4gj"
      },
      "execution_count": 43,
      "outputs": []
    },
    {
      "cell_type": "code",
      "source": [
        "df.columns"
      ],
      "metadata": {
        "colab": {
          "base_uri": "https://localhost:8080/"
        },
        "id": "_Jevt_Q2VNrV",
        "outputId": "811e4674-c81d-40c9-9b7c-a4f88e8a5c5a"
      },
      "execution_count": 44,
      "outputs": [
        {
          "output_type": "execute_result",
          "data": {
            "text/plain": [
              "Index(['id', 'title', 'vote_average', 'vote_count', 'status', 'release_date',\n",
              "       'revenue', 'runtime', 'adult', 'budget', 'imdb_id', 'original_language',\n",
              "       'original_title', 'overview', 'popularity', 'tagline', 'genres',\n",
              "       'production_companies', 'production_countries', 'spoken_languages',\n",
              "       'keywords', 'director', 'cast', 'ROI', 'SR', 'y_result'],\n",
              "      dtype='object')"
            ]
          },
          "metadata": {},
          "execution_count": 44
        }
      ]
    },
    {
      "cell_type": "code",
      "source": [
        "df['release_date'] = pd.to_datetime(df['release_date'], errors='coerce')\n",
        "# 2. 날짜 형식으로 변환된 컬럼에서 '월'과 '분기' 정보 추출\n",
        "# .dt 접근자를 사용하면 날짜 관련 정보를 쉽게 뽑아낼 수 있습니다.\n",
        "df['month'] = df['release_date'].dt.month\n",
        "df['quarter'] = df['release_date'].dt.quarter\n",
        "\n",
        "# 'month', 'quarter' 컬럼 생성\n",
        "print(df[['release_date', 'month', 'quarter']].head())"
      ],
      "metadata": {
        "colab": {
          "base_uri": "https://localhost:8080/"
        },
        "id": "ZRjWotgbd6C2",
        "outputId": "8b33c46b-827b-4de2-f950-0a71b939d7a5"
      },
      "execution_count": 45,
      "outputs": [
        {
          "output_type": "stream",
          "name": "stdout",
          "text": [
            "  release_date  month  quarter\n",
            "0   2010-07-15      7        3\n",
            "1   2014-11-05     11        4\n",
            "2   2008-07-16      7        3\n",
            "3   2009-12-15     12        4\n",
            "4   2012-04-25      4        2\n"
          ]
        }
      ]
    },
    {
      "cell_type": "code",
      "source": [
        "import pandas as pd\n",
        "from scipy.stats import chi2_contingency\n",
        "\n",
        "# --- '월(month)'과 'Y Result' 간의 카이제곱 검정 ---\n",
        "\n",
        "print(\"--- '월(month)' 기준 카이제곱 검정 ---\")\n",
        "\n",
        "# 1. 교차표(Contingency Table) 생성\n",
        "# 행(index)에는 흥행 등급, 열(column)에는 개봉 월을 배치합니다.\n",
        "contingency_table_month = pd.crosstab(df['y_result'], df['month'])\n",
        "\n",
        "print(\"\\n[월별 흥행 등급 교차표]\")\n",
        "print(contingency_table_month)\n",
        "\n",
        "# 2. 카이제곱 검정 실행\n",
        "# 교차표를 chi2_contingency 함수에 전달합니다.\n",
        "chi2, p_value, dof, expected = chi2_contingency(contingency_table_month)\n",
        "\n",
        "print(f\"\\n카이제곱 통계량(Chi-squared Statistic): {chi2:.4f}\")\n",
        "print(f\"p-value: {p_value:.4f}\")\n",
        "print(f\"자유도(Degrees of Freedom): {dof}\")\n",
        "\n",
        "# 3. 결과 해석\n",
        "alpha = 0.05  # 유의수준 5%\n",
        "if p_value < alpha:\n",
        "    print(\"\\n[결론] p-value가 유의수준보다 작으므로, '개봉 월'과 '흥행'은 통계적으로 유의미한 관련이 있습니다.\")\n",
        "else:\n",
        "    print(\"\\n[결론] p-value가 유의수준보다 크므로, '개봉 월'과 '흥행'의 관련성을 통계적으로 입증하지 못했습니다.\")"
      ],
      "metadata": {
        "colab": {
          "base_uri": "https://localhost:8080/"
        },
        "id": "aIousOuvKqhM",
        "outputId": "16917a43-62fe-49d9-aa07-5f77c33263c9"
      },
      "execution_count": 46,
      "outputs": [
        {
          "output_type": "stream",
          "name": "stdout",
          "text": [
            "--- '월(month)' 기준 카이제곱 검정 ---\n",
            "\n",
            "[월별 흥행 등급 교차표]\n",
            "month      1    2    3    4    5    6    7    8    9    10   11   12\n",
            "y_result                                                            \n",
            "0         176  200  212  214  206  179  161  254  413  332  221  245\n",
            "1         141  166  196  189  183  175  197  213  235  224  182  248\n",
            "2         130  152  171  146  153  196  179  195  179  162  150  212\n",
            "3          44   63   72   51   91  132  114   61   72   91  100  165\n",
            "\n",
            "카이제곱 통계량(Chi-squared Statistic): 232.6134\n",
            "p-value: 0.0000\n",
            "자유도(Degrees of Freedom): 33\n",
            "\n",
            "[결론] p-value가 유의수준보다 작으므로, '개봉 월'과 '흥행'은 통계적으로 유의미한 관련이 있습니다.\n"
          ]
        }
      ]
    },
    {
      "cell_type": "code",
      "source": [
        "import pandas as pd\n",
        "import numpy as np\n",
        "from scipy.stats import chi2_contingency\n",
        "\n",
        "# 이전에 생성한 교차표 'contingency_table_month'가 있다고 가정합니다.\n",
        "# contingency_table_month = pd.crosstab(df['Y Result'], df['month'])\n",
        "\n",
        "# 1. 카이제곱 검정 재실행하여 '기대 빈도' 값 얻기\n",
        "chi2, p, dof, expected = chi2_contingency(contingency_table_month)\n",
        "\n",
        "# 2. 표준화 잔차 계산\n",
        "# 공식: (관측 빈도 - 기대 빈도) / sqrt(기대 빈도)\n",
        "residuals = (contingency_table_month - expected) / np.sqrt(expected)\n",
        "\n",
        "# 더 정확한 분석을 위해 조정 잔차(Adjusted Residuals)를 사용하는 경우도 많지만,\n",
        "# 해석의 편의성을 위해 표준화 잔차로도 충분히 의미있는 결과를 얻을 수 있습니다.\n",
        "# 여기서는 표준화 잔차(residuals)를 사용하겠습니다.\n",
        "\n",
        "print(\"--- 표준화 잔차 (Standardized Residuals) ---\")\n",
        "print(residuals)\n",
        "\n",
        "\n",
        "# 3. (선택사항) 결과를 보기 좋게 시각화하기 (강력 추천!)\n",
        "# 잔차 값이 1.96보다 크거나 -1.96보다 작은 셀을 하이라이트하여 보여줍니다.\n",
        "def highlight_significant_cells(val):\n",
        "    if val > 1.96:\n",
        "        return 'background-color: lightgreen' # 유의미하게 많음 (긍정적)\n",
        "    elif val < -1.96:\n",
        "        return 'background-color: lightcoral'  # 유의미하게 적음 (부정적)\n",
        "    else:\n",
        "        return ''\n",
        "\n",
        "styled_residuals = residuals.style.applymap(highlight_significant_cells)\n",
        "\n",
        "print(\"\\n\\n--- 유의미한 셀 하이라이트 ---\")\n",
        "# Jupyter Notebook이나 Colab 환경에서 실행하면 색상이 입혀진 표가 보입니다.\n",
        "display(styled_residuals)"
      ],
      "metadata": {
        "colab": {
          "base_uri": "https://localhost:8080/",
          "height": 552
        },
        "id": "uwNU7VzNKqaD",
        "outputId": "7cb4d653-4809-44b4-c61e-b72db6953975"
      },
      "execution_count": 47,
      "outputs": [
        {
          "output_type": "stream",
          "name": "stdout",
          "text": [
            "--- 표준화 잔차 (Standardized Residuals) ---\n",
            "month           1         2         3         4         5         6   \\\n",
            "y_result                                                               \n",
            "0         0.652150  0.122746 -0.681634  0.646046 -0.681551 -3.522521   \n",
            "1         0.091319  0.033649  0.769812  1.377989  0.194671 -1.387923   \n",
            "2         0.854020  0.775912  0.875630 -0.115132 -0.200853  2.198568   \n",
            "3        -2.383215 -1.324990 -1.248182 -2.950198  1.100169  4.774678   \n",
            "\n",
            "month           7         8         9         10        11        12  \n",
            "y_result                                                              \n",
            "0        -4.103299  0.462804  6.063661  3.365585 -0.123413 -3.011815  \n",
            "1         0.843232  0.485401 -1.323715 -0.430728 -0.299444  0.004885  \n",
            "2         1.508230  1.304524 -2.816154 -2.606220 -0.822536 -0.118117  \n",
            "3         3.350882 -3.285784 -4.022630 -1.241599  1.787062  5.071933  \n",
            "\n",
            "\n",
            "--- 유의미한 셀 하이라이트 ---\n"
          ]
        },
        {
          "output_type": "stream",
          "name": "stderr",
          "text": [
            "/tmp/ipython-input-2069184899.py:33: FutureWarning: Styler.applymap has been deprecated. Use Styler.map instead.\n",
            "  styled_residuals = residuals.style.applymap(highlight_significant_cells)\n"
          ]
        },
        {
          "output_type": "display_data",
          "data": {
            "text/plain": [
              "<pandas.io.formats.style.Styler at 0x7dd76b7834a0>"
            ],
            "text/html": [
              "<style type=\"text/css\">\n",
              "#T_9e922_row0_col5, #T_9e922_row0_col6, #T_9e922_row0_col11, #T_9e922_row2_col8, #T_9e922_row2_col9, #T_9e922_row3_col0, #T_9e922_row3_col3, #T_9e922_row3_col7, #T_9e922_row3_col8 {\n",
              "  background-color: lightcoral;\n",
              "}\n",
              "#T_9e922_row0_col8, #T_9e922_row0_col9, #T_9e922_row2_col5, #T_9e922_row3_col5, #T_9e922_row3_col6, #T_9e922_row3_col11 {\n",
              "  background-color: lightgreen;\n",
              "}\n",
              "</style>\n",
              "<table id=\"T_9e922\" class=\"dataframe\">\n",
              "  <thead>\n",
              "    <tr>\n",
              "      <th class=\"index_name level0\" >month</th>\n",
              "      <th id=\"T_9e922_level0_col0\" class=\"col_heading level0 col0\" >1</th>\n",
              "      <th id=\"T_9e922_level0_col1\" class=\"col_heading level0 col1\" >2</th>\n",
              "      <th id=\"T_9e922_level0_col2\" class=\"col_heading level0 col2\" >3</th>\n",
              "      <th id=\"T_9e922_level0_col3\" class=\"col_heading level0 col3\" >4</th>\n",
              "      <th id=\"T_9e922_level0_col4\" class=\"col_heading level0 col4\" >5</th>\n",
              "      <th id=\"T_9e922_level0_col5\" class=\"col_heading level0 col5\" >6</th>\n",
              "      <th id=\"T_9e922_level0_col6\" class=\"col_heading level0 col6\" >7</th>\n",
              "      <th id=\"T_9e922_level0_col7\" class=\"col_heading level0 col7\" >8</th>\n",
              "      <th id=\"T_9e922_level0_col8\" class=\"col_heading level0 col8\" >9</th>\n",
              "      <th id=\"T_9e922_level0_col9\" class=\"col_heading level0 col9\" >10</th>\n",
              "      <th id=\"T_9e922_level0_col10\" class=\"col_heading level0 col10\" >11</th>\n",
              "      <th id=\"T_9e922_level0_col11\" class=\"col_heading level0 col11\" >12</th>\n",
              "    </tr>\n",
              "    <tr>\n",
              "      <th class=\"index_name level0\" >y_result</th>\n",
              "      <th class=\"blank col0\" >&nbsp;</th>\n",
              "      <th class=\"blank col1\" >&nbsp;</th>\n",
              "      <th class=\"blank col2\" >&nbsp;</th>\n",
              "      <th class=\"blank col3\" >&nbsp;</th>\n",
              "      <th class=\"blank col4\" >&nbsp;</th>\n",
              "      <th class=\"blank col5\" >&nbsp;</th>\n",
              "      <th class=\"blank col6\" >&nbsp;</th>\n",
              "      <th class=\"blank col7\" >&nbsp;</th>\n",
              "      <th class=\"blank col8\" >&nbsp;</th>\n",
              "      <th class=\"blank col9\" >&nbsp;</th>\n",
              "      <th class=\"blank col10\" >&nbsp;</th>\n",
              "      <th class=\"blank col11\" >&nbsp;</th>\n",
              "    </tr>\n",
              "  </thead>\n",
              "  <tbody>\n",
              "    <tr>\n",
              "      <th id=\"T_9e922_level0_row0\" class=\"row_heading level0 row0\" >0</th>\n",
              "      <td id=\"T_9e922_row0_col0\" class=\"data row0 col0\" >0.652150</td>\n",
              "      <td id=\"T_9e922_row0_col1\" class=\"data row0 col1\" >0.122746</td>\n",
              "      <td id=\"T_9e922_row0_col2\" class=\"data row0 col2\" >-0.681634</td>\n",
              "      <td id=\"T_9e922_row0_col3\" class=\"data row0 col3\" >0.646046</td>\n",
              "      <td id=\"T_9e922_row0_col4\" class=\"data row0 col4\" >-0.681551</td>\n",
              "      <td id=\"T_9e922_row0_col5\" class=\"data row0 col5\" >-3.522521</td>\n",
              "      <td id=\"T_9e922_row0_col6\" class=\"data row0 col6\" >-4.103299</td>\n",
              "      <td id=\"T_9e922_row0_col7\" class=\"data row0 col7\" >0.462804</td>\n",
              "      <td id=\"T_9e922_row0_col8\" class=\"data row0 col8\" >6.063661</td>\n",
              "      <td id=\"T_9e922_row0_col9\" class=\"data row0 col9\" >3.365585</td>\n",
              "      <td id=\"T_9e922_row0_col10\" class=\"data row0 col10\" >-0.123413</td>\n",
              "      <td id=\"T_9e922_row0_col11\" class=\"data row0 col11\" >-3.011815</td>\n",
              "    </tr>\n",
              "    <tr>\n",
              "      <th id=\"T_9e922_level0_row1\" class=\"row_heading level0 row1\" >1</th>\n",
              "      <td id=\"T_9e922_row1_col0\" class=\"data row1 col0\" >0.091319</td>\n",
              "      <td id=\"T_9e922_row1_col1\" class=\"data row1 col1\" >0.033649</td>\n",
              "      <td id=\"T_9e922_row1_col2\" class=\"data row1 col2\" >0.769812</td>\n",
              "      <td id=\"T_9e922_row1_col3\" class=\"data row1 col3\" >1.377989</td>\n",
              "      <td id=\"T_9e922_row1_col4\" class=\"data row1 col4\" >0.194671</td>\n",
              "      <td id=\"T_9e922_row1_col5\" class=\"data row1 col5\" >-1.387923</td>\n",
              "      <td id=\"T_9e922_row1_col6\" class=\"data row1 col6\" >0.843232</td>\n",
              "      <td id=\"T_9e922_row1_col7\" class=\"data row1 col7\" >0.485401</td>\n",
              "      <td id=\"T_9e922_row1_col8\" class=\"data row1 col8\" >-1.323715</td>\n",
              "      <td id=\"T_9e922_row1_col9\" class=\"data row1 col9\" >-0.430728</td>\n",
              "      <td id=\"T_9e922_row1_col10\" class=\"data row1 col10\" >-0.299444</td>\n",
              "      <td id=\"T_9e922_row1_col11\" class=\"data row1 col11\" >0.004885</td>\n",
              "    </tr>\n",
              "    <tr>\n",
              "      <th id=\"T_9e922_level0_row2\" class=\"row_heading level0 row2\" >2</th>\n",
              "      <td id=\"T_9e922_row2_col0\" class=\"data row2 col0\" >0.854020</td>\n",
              "      <td id=\"T_9e922_row2_col1\" class=\"data row2 col1\" >0.775912</td>\n",
              "      <td id=\"T_9e922_row2_col2\" class=\"data row2 col2\" >0.875630</td>\n",
              "      <td id=\"T_9e922_row2_col3\" class=\"data row2 col3\" >-0.115132</td>\n",
              "      <td id=\"T_9e922_row2_col4\" class=\"data row2 col4\" >-0.200853</td>\n",
              "      <td id=\"T_9e922_row2_col5\" class=\"data row2 col5\" >2.198568</td>\n",
              "      <td id=\"T_9e922_row2_col6\" class=\"data row2 col6\" >1.508230</td>\n",
              "      <td id=\"T_9e922_row2_col7\" class=\"data row2 col7\" >1.304524</td>\n",
              "      <td id=\"T_9e922_row2_col8\" class=\"data row2 col8\" >-2.816154</td>\n",
              "      <td id=\"T_9e922_row2_col9\" class=\"data row2 col9\" >-2.606220</td>\n",
              "      <td id=\"T_9e922_row2_col10\" class=\"data row2 col10\" >-0.822536</td>\n",
              "      <td id=\"T_9e922_row2_col11\" class=\"data row2 col11\" >-0.118117</td>\n",
              "    </tr>\n",
              "    <tr>\n",
              "      <th id=\"T_9e922_level0_row3\" class=\"row_heading level0 row3\" >3</th>\n",
              "      <td id=\"T_9e922_row3_col0\" class=\"data row3 col0\" >-2.383215</td>\n",
              "      <td id=\"T_9e922_row3_col1\" class=\"data row3 col1\" >-1.324990</td>\n",
              "      <td id=\"T_9e922_row3_col2\" class=\"data row3 col2\" >-1.248182</td>\n",
              "      <td id=\"T_9e922_row3_col3\" class=\"data row3 col3\" >-2.950198</td>\n",
              "      <td id=\"T_9e922_row3_col4\" class=\"data row3 col4\" >1.100169</td>\n",
              "      <td id=\"T_9e922_row3_col5\" class=\"data row3 col5\" >4.774678</td>\n",
              "      <td id=\"T_9e922_row3_col6\" class=\"data row3 col6\" >3.350882</td>\n",
              "      <td id=\"T_9e922_row3_col7\" class=\"data row3 col7\" >-3.285784</td>\n",
              "      <td id=\"T_9e922_row3_col8\" class=\"data row3 col8\" >-4.022630</td>\n",
              "      <td id=\"T_9e922_row3_col9\" class=\"data row3 col9\" >-1.241599</td>\n",
              "      <td id=\"T_9e922_row3_col10\" class=\"data row3 col10\" >1.787062</td>\n",
              "      <td id=\"T_9e922_row3_col11\" class=\"data row3 col11\" >5.071933</td>\n",
              "    </tr>\n",
              "  </tbody>\n",
              "</table>\n"
            ]
          },
          "metadata": {}
        }
      ]
    },
    {
      "cell_type": "code",
      "source": [
        "# 1. '성공 그룹' 데이터 필터링 (y_result가 2 또는 3)\n",
        "success_df = df[df['y_result'].isin([2, 3])].copy()\n",
        "\n",
        "# 2. 예산이 0보다 크고, 결측치가 없는 데이터만 남기기\n",
        "success_df = success_df[success_df['budget'] > 0].dropna()\n",
        "\n",
        "print(\"성공 그룹 데이터 준비 완료!\")\n",
        "print(f\"분석에 사용할 성공 영화 개수: {len(success_df)}\")"
      ],
      "metadata": {
        "colab": {
          "base_uri": "https://localhost:8080/"
        },
        "id": "SfyOHjJ0i9RP",
        "outputId": "43714e4a-8bb1-4847-9332-669d88faba8e"
      },
      "execution_count": 48,
      "outputs": [
        {
          "output_type": "stream",
          "name": "stdout",
          "text": [
            "성공 그룹 데이터 준비 완료!\n",
            "분석에 사용할 성공 영화 개수: 2796\n"
          ]
        }
      ]
    },
    {
      "cell_type": "code",
      "source": [
        "from scipy.stats import ttest_ind\n",
        "\n",
        "# 2단계에서 생성한 success_df 사용\n",
        "\n",
        "# 1. '성수기'와 '비수기' 그룹으로 데이터 나누기\n",
        "peak_season_months = [5, 6, 7, 11, 12]\n",
        "peak_group = success_df[success_df['month'].isin(peak_season_months)]['budget']\n",
        "off_peak_group = success_df[~success_df['month'].isin(peak_season_months)]['budget']\n",
        "\n",
        "print(f\"성수기 성공작 평균 예산: ${peak_group.mean():,.2f}\")\n",
        "print(f\"비수기 성공작 평균 예산: ${off_peak_group.mean():,.2f}\")\n",
        "\n",
        "# 2. T-test 실행\n",
        "ttest_result = ttest_ind(peak_group, off_peak_group, equal_var=False)\n",
        "print(f\"\\nT-test p-value: {ttest_result.pvalue:.10f}\")\n",
        "\n",
        "# 3. 결과 해석\n",
        "if ttest_result.pvalue < 0.05:\n",
        "    print(\">> 결론: 성수기와 비수기 성공작들의 평균 예산 차이는 통계적으로 유의미합니다.\")\n",
        "else:\n",
        "    print(\">> 결론: 두 그룹의 평균 예산 차이는 통계적으로 유의미하지 않습니다.\")"
      ],
      "metadata": {
        "colab": {
          "base_uri": "https://localhost:8080/"
        },
        "id": "K0dsE7kRdXEg",
        "outputId": "5c4aea96-6b84-4c57-a17d-e21d6a607b1a"
      },
      "execution_count": 49,
      "outputs": [
        {
          "output_type": "stream",
          "name": "stdout",
          "text": [
            "성수기 성공작 평균 예산: $45,790,930.77\n",
            "비수기 성공작 평균 예산: $29,048,210.87\n",
            "\n",
            "T-test p-value: 0.0000000000\n",
            ">> 결론: 성수기와 비수기 성공작들의 평균 예산 차이는 통계적으로 유의미합니다.\n"
          ]
        }
      ]
    },
    {
      "cell_type": "code",
      "source": [],
      "metadata": {
        "id": "MC-PDC5Ii99H"
      },
      "execution_count": null,
      "outputs": []
    }
  ]
}